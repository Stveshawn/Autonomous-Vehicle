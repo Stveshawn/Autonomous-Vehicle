{
 "cells": [
  {
   "cell_type": "code",
   "execution_count": 22,
   "metadata": {},
   "outputs": [],
   "source": [
    "import numpy as np\n",
    "import pandas as pd\n",
    "import scipy as sp\n",
    "\n",
    "# utils\n",
    "def to_num(s):\n",
    "    \"\"\"\n",
    "    Convert str to num if possible:\n",
    "        to int when appropriate, otherwise to float\n",
    "    \"\"\"\n",
    "    \n",
    "    try:\n",
    "        return int(s)\n",
    "    except ValueError:\n",
    "        try:\n",
    "            return float(s)\n",
    "        except ValueError:\n",
    "            return s\n",
    "        \n",
    "        \n",
    "def log2df(file_name):\n",
    "    \"\"\"\n",
    "    Get a dataframe from the log file of topic -- localized_pose\n",
    "    \"\"\"\n",
    "    \n",
    "    res = []\n",
    "    with open(file_name, 'r') as lines:\n",
    "        tmp = []\n",
    "        for line in lines:\n",
    "            if line.strip() != '---':\n",
    "                if len((line.strip().split(':'))[1].strip()):\n",
    "                    tmp.append(to_num((line.strip().split(':'))[1].strip()))\n",
    "            else:\n",
    "                res.append(tmp)\n",
    "                tmp = []\n",
    "                \n",
    "    # columns specific for topic -- localized_pose\n",
    "    cols = ['seq', 'secs', 'nsecs', 'frame_id', 'utm_east', 'utm_north',\n",
    "           'utm_up', 'roll', 'pitch', 'yaw', 'velo_north',\n",
    "           'velo_east', 'velo_down', 'velo_robot_x',\n",
    "           'velo_robot_y', 'velo_robot_z', 'acc_robot_x',\n",
    "           'acc_robot_y', 'acc_robot_z', 'omega_yaw', 'omega_pitch',\n",
    "           'omega_roll', 'nav_mode', 'pos_mode', 'vel_mode']\n",
    "\n",
    "    df = pd.DataFrame(res, columns=cols)\n",
    "    df = df.drop(columns = ['seq', 'frame_id'])\n",
    "    return df"
   ]
  }
 ],
 "metadata": {
  "kernelspec": {
   "display_name": "Python 3",
   "language": "python",
   "name": "python3"
  },
  "language_info": {
   "codemirror_mode": {
    "name": "ipython",
    "version": 3
   },
   "file_extension": ".py",
   "mimetype": "text/x-python",
   "name": "python",
   "nbconvert_exporter": "python",
   "pygments_lexer": "ipython3",
   "version": "3.7.3"
  }
 },
 "nbformat": 4,
 "nbformat_minor": 2
}
