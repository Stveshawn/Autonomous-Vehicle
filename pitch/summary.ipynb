{
 "cells": [
  {
   "cell_type": "markdown",
   "metadata": {},
   "source": [
    "1. background\n",
    "2. EDA (acc and velo, acc and pitch)\n",
    "3. Model:\n",
    "    use gaussian noise,\n",
    "    acc related bias (the motion of the vehiecle)\n",
    "    bumper has bigger variance, assumed 0 bias\n",
    "4. results\n",
    "\n",
    "The intuition of the model comes from the fact that the observation of values like pitch, yaw and velocities are subject to bias and noise from many sources.\n",
    "\n",
    "The model is given as follows:\n",
    "\n",
    "pitcht=f(xt,yt)+b(acct)+σtpitch_t=f(x_t, y_t) + b(acc_t) + \\sigma_tpitch​t​​=f(x​t​​,y​t​​)+b(acc​t​​)+σ​t​​\n",
    "where \n",
    "\n",
    "\n",
    "\n",
    "f(xt,yt)f(x_t, y_t)f(x​t​​,y​t​​) is a function to characterized the true signal of pitch\n",
    "\n",
    "b(acct)b(acc_t)b(acc​t​​) is a fucntion of acceleration to capture the bias resulted from the jitters of the vehiecle\n",
    "\n",
    "σt\\sigma_tσ​t​​ is modeled as Gaussian noise to capture the effects from the road bumpers, varying from time to time, since the levels of bumpers are different.\n",
    "\n",
    "\n",
    "\n",
    "Bias\n",
    "\n",
    "For this model, it mainly captures the bias resulting from the jitters of the vehiecle. After close examination on the relationships of pitches and many other quantities available, I found the there is a significant pattern for pitch and acc_robot_x. \n",
    "Therefore, I tried methods to capture such relationship. It turned out to be desirable in some cases to model the bias of pitch obsevations as a fucntion biast=b(acct)bias_t=b(acc_t)bias​t​​=b(acc​t​​) of acc_robot_x (written as acc for simplicity).\n",
    "\n",
    "biast=b(acct)=shrink(TH(MA(acct)))bias_t=b(acc_t)=shrink(TH(MA(acc_t)))bias​t​​=b(acc​t​​)=shrink(TH(MA(acc​t​​)))\n",
    "where MAMAMA is a moving average filter, THTHTH is a thresholding function which takes values (abs sense) below a specific threshold down to 0 and shrinkshrinkshrink serves to shrink larger values (abs sense) more and smaller values less (which can be also viewed as a link funciton).\n",
    "\n",
    "We can compute the actual value of the bias and reduce them from the original pitch values and get \n",
    "\n",
    "pitchreducedbias=pitch−biaspitch_{reducedbias} = pitch - biaspitch​reducedbias​​=pitch−bias\n",
    "\n",
    "Noise\n",
    "\n",
    "Then for the noise, we have the assumption that the effects of bumpers can be models as some time (location) specific gaussian noise for small bumpers can be generally views as being symmetric, and the influence from larger bumpers have already been captured in the bias part (larger bumpers will lead to significant jitters of the vehiecle body.)\n",
    "\n",
    "Then the noise can be erased by gaussian filters. Therefore, we have\n",
    "\n",
    "pitchsmoothed=GF(pitchreducedbias)=f(xt,yt)pitch_{smoothed} = GF(pitch_{reducedbias}) = f(x_t, y_t)pitch​smoothed​​=GF(pitch​reducedbias​​)=f(x​t​​,y​t​​)\n",
    "where GF is some gaussian filter."
   ]
  },
  {
   "cell_type": "code",
   "execution_count": null,
   "metadata": {},
   "outputs": [],
   "source": []
  }
 ],
 "metadata": {
  "kernelspec": {
   "display_name": "Python 3",
   "language": "python",
   "name": "python3"
  },
  "language_info": {
   "codemirror_mode": {
    "name": "ipython",
    "version": 3
   },
   "file_extension": ".py",
   "mimetype": "text/x-python",
   "name": "python",
   "nbconvert_exporter": "python",
   "pygments_lexer": "ipython3",
   "version": "3.7.3"
  }
 },
 "nbformat": 4,
 "nbformat_minor": 2
}
